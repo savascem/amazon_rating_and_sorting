{
 "cells": [
  {
   "attachments": {},
   "cell_type": "markdown",
   "metadata": {},
   "source": [
    "### PROJECT: Rating Product & Sorting Reviews in Amazon"
   ]
  },
  {
   "attachments": {},
   "cell_type": "markdown",
   "metadata": {},
   "source": [
    "###################################################\n",
    "#### Business Problem\n",
    "###################################################\n",
    "\n",
    "One of the most important problems in e-commerce is the accurate calculation of post-purchase ratings for products. The solution to this problem means greater customer satisfaction for the e-commerce site, better visibility for sellers' products, and a seamless shopping experience for buyers. Another problem is the proper sorting of product reviews. Misleading reviews can directly impact the sale of a product, resulting in both financial loss and customer loss. By solving these two fundamental problems, e-commerce sites and sellers can increase their sales, while customers can complete their purchasing journey seamlessly.\n",
    "\n",
    "###################################################\n",
    "#### The story of Dataset\n",
    "###################################################\n",
    "\n",
    "This dataset containing Amazon product data includes various metadata with product categories. The product with the most reviews in the Electronics category has user ratings and reviews.\n",
    "\n",
    "Variables:\n",
    "reviewerID: User ID\n",
    "asin: Product ID\n",
    "reviewerName: User name\n",
    "helpful: Helpful review rating\n",
    "reviewText: Review\n",
    "overall: Product rating\n",
    "summary: Review summary\n",
    "unixReviewTime: Review time\n",
    "reviewTime: Raw review time\n",
    "day_diff: Number of days since the review was posted\n",
    "helpful_yes: Number of people who found the review helpful\n",
    "total_vote: Total number of votes given to the review\""
   ]
  },
  {
   "attachments": {},
   "cell_type": "markdown",
   "metadata": {},
   "source": [
    "###################################################\n",
    "#### TASK 1: Calculate the Average Rating Based on Recent Reviews and Compare it with the Existing Average Rating.\n",
    "\n",
    "In the provided dataset, users have given ratings and reviews for a product. The aim of this task is to evaluate the given ratings by weighting them according to the date. A comparison needs to be made between the initial average rating and the weighted rating obtained based on the date."
   ]
  },
  {
   "cell_type": "code",
   "execution_count": 3,
   "metadata": {},
   "outputs": [
    {
     "data": {
      "text/html": [
       "<div>\n",
       "<style scoped>\n",
       "    .dataframe tbody tr th:only-of-type {\n",
       "        vertical-align: middle;\n",
       "    }\n",
       "\n",
       "    .dataframe tbody tr th {\n",
       "        vertical-align: top;\n",
       "    }\n",
       "\n",
       "    .dataframe thead th {\n",
       "        text-align: right;\n",
       "    }\n",
       "</style>\n",
       "<table border=\"1\" class=\"dataframe\">\n",
       "  <thead>\n",
       "    <tr style=\"text-align: right;\">\n",
       "      <th></th>\n",
       "      <th>reviewerID</th>\n",
       "      <th>asin</th>\n",
       "      <th>reviewerName</th>\n",
       "      <th>helpful</th>\n",
       "      <th>reviewText</th>\n",
       "      <th>overall</th>\n",
       "      <th>summary</th>\n",
       "      <th>unixReviewTime</th>\n",
       "      <th>reviewTime</th>\n",
       "      <th>day_diff</th>\n",
       "      <th>helpful_yes</th>\n",
       "      <th>total_vote</th>\n",
       "    </tr>\n",
       "  </thead>\n",
       "  <tbody>\n",
       "    <tr>\n",
       "      <th>0</th>\n",
       "      <td>A3SBTW3WS4IQSN</td>\n",
       "      <td>B007WTAJTO</td>\n",
       "      <td>NaN</td>\n",
       "      <td>[0, 0]</td>\n",
       "      <td>No issues.</td>\n",
       "      <td>4.0</td>\n",
       "      <td>Four Stars</td>\n",
       "      <td>1406073600</td>\n",
       "      <td>2014-07-23</td>\n",
       "      <td>138</td>\n",
       "      <td>0</td>\n",
       "      <td>0</td>\n",
       "    </tr>\n",
       "    <tr>\n",
       "      <th>1</th>\n",
       "      <td>A18K1ODH1I2MVB</td>\n",
       "      <td>B007WTAJTO</td>\n",
       "      <td>0mie</td>\n",
       "      <td>[0, 0]</td>\n",
       "      <td>Purchased this for my device, it worked as adv...</td>\n",
       "      <td>5.0</td>\n",
       "      <td>MOAR SPACE!!!</td>\n",
       "      <td>1382659200</td>\n",
       "      <td>2013-10-25</td>\n",
       "      <td>409</td>\n",
       "      <td>0</td>\n",
       "      <td>0</td>\n",
       "    </tr>\n",
       "    <tr>\n",
       "      <th>2</th>\n",
       "      <td>A2FII3I2MBMUIA</td>\n",
       "      <td>B007WTAJTO</td>\n",
       "      <td>1K3</td>\n",
       "      <td>[0, 0]</td>\n",
       "      <td>it works as expected. I should have sprung for...</td>\n",
       "      <td>4.0</td>\n",
       "      <td>nothing to really say....</td>\n",
       "      <td>1356220800</td>\n",
       "      <td>2012-12-23</td>\n",
       "      <td>715</td>\n",
       "      <td>0</td>\n",
       "      <td>0</td>\n",
       "    </tr>\n",
       "    <tr>\n",
       "      <th>3</th>\n",
       "      <td>A3H99DFEG68SR</td>\n",
       "      <td>B007WTAJTO</td>\n",
       "      <td>1m2</td>\n",
       "      <td>[0, 0]</td>\n",
       "      <td>This think has worked out great.Had a diff. br...</td>\n",
       "      <td>5.0</td>\n",
       "      <td>Great buy at this price!!!  *** UPDATE</td>\n",
       "      <td>1384992000</td>\n",
       "      <td>2013-11-21</td>\n",
       "      <td>382</td>\n",
       "      <td>0</td>\n",
       "      <td>0</td>\n",
       "    </tr>\n",
       "    <tr>\n",
       "      <th>4</th>\n",
       "      <td>A375ZM4U047O79</td>\n",
       "      <td>B007WTAJTO</td>\n",
       "      <td>2&amp;amp;1/2Men</td>\n",
       "      <td>[0, 0]</td>\n",
       "      <td>Bought it with Retail Packaging, arrived legit...</td>\n",
       "      <td>5.0</td>\n",
       "      <td>best deal around</td>\n",
       "      <td>1373673600</td>\n",
       "      <td>2013-07-13</td>\n",
       "      <td>513</td>\n",
       "      <td>0</td>\n",
       "      <td>0</td>\n",
       "    </tr>\n",
       "  </tbody>\n",
       "</table>\n",
       "</div>"
      ],
      "text/plain": [
       "       reviewerID        asin  reviewerName helpful  \\\n",
       "0  A3SBTW3WS4IQSN  B007WTAJTO           NaN  [0, 0]   \n",
       "1  A18K1ODH1I2MVB  B007WTAJTO          0mie  [0, 0]   \n",
       "2  A2FII3I2MBMUIA  B007WTAJTO           1K3  [0, 0]   \n",
       "3   A3H99DFEG68SR  B007WTAJTO           1m2  [0, 0]   \n",
       "4  A375ZM4U047O79  B007WTAJTO  2&amp;1/2Men  [0, 0]   \n",
       "\n",
       "                                          reviewText  overall  \\\n",
       "0                                         No issues.      4.0   \n",
       "1  Purchased this for my device, it worked as adv...      5.0   \n",
       "2  it works as expected. I should have sprung for...      4.0   \n",
       "3  This think has worked out great.Had a diff. br...      5.0   \n",
       "4  Bought it with Retail Packaging, arrived legit...      5.0   \n",
       "\n",
       "                                  summary  unixReviewTime  reviewTime  \\\n",
       "0                              Four Stars      1406073600  2014-07-23   \n",
       "1                           MOAR SPACE!!!      1382659200  2013-10-25   \n",
       "2               nothing to really say....      1356220800  2012-12-23   \n",
       "3  Great buy at this price!!!  *** UPDATE      1384992000  2013-11-21   \n",
       "4                        best deal around      1373673600  2013-07-13   \n",
       "\n",
       "   day_diff  helpful_yes  total_vote  \n",
       "0       138            0           0  \n",
       "1       409            0           0  \n",
       "2       715            0           0  \n",
       "3       382            0           0  \n",
       "4       513            0           0  "
      ]
     },
     "execution_count": 3,
     "metadata": {},
     "output_type": "execute_result"
    }
   ],
   "source": [
    "import pandas as pd\n",
    "import datetime as dt\n",
    "\n",
    "df = pd.read_csv(\"amazon_review.csv\")\n",
    "df.head(5)"
   ]
  },
  {
   "cell_type": "code",
   "execution_count": 4,
   "metadata": {},
   "outputs": [
    {
     "data": {
      "text/html": [
       "<div>\n",
       "<style scoped>\n",
       "    .dataframe tbody tr th:only-of-type {\n",
       "        vertical-align: middle;\n",
       "    }\n",
       "\n",
       "    .dataframe tbody tr th {\n",
       "        vertical-align: top;\n",
       "    }\n",
       "\n",
       "    .dataframe thead th {\n",
       "        text-align: right;\n",
       "    }\n",
       "</style>\n",
       "<table border=\"1\" class=\"dataframe\">\n",
       "  <thead>\n",
       "    <tr style=\"text-align: right;\">\n",
       "      <th></th>\n",
       "      <th>overall</th>\n",
       "    </tr>\n",
       "    <tr>\n",
       "      <th>asin</th>\n",
       "      <th></th>\n",
       "    </tr>\n",
       "  </thead>\n",
       "  <tbody>\n",
       "    <tr>\n",
       "      <th>B007WTAJTO</th>\n",
       "      <td>4.587589</td>\n",
       "    </tr>\n",
       "  </tbody>\n",
       "</table>\n",
       "</div>"
      ],
      "text/plain": [
       "             overall\n",
       "asin                \n",
       "B007WTAJTO  4.587589"
      ]
     },
     "execution_count": 4,
     "metadata": {},
     "output_type": "execute_result"
    }
   ],
   "source": [
    "# Step 1: Calculate the average rating of the product.\n",
    "\n",
    "df.groupby(\"asin\").agg({\"overall\": \"mean\"})"
   ]
  },
  {
   "cell_type": "code",
   "execution_count": 5,
   "metadata": {},
   "outputs": [
    {
     "data": {
      "text/plain": [
       "4.740141795485782"
      ]
     },
     "execution_count": 5,
     "metadata": {},
     "output_type": "execute_result"
    }
   ],
   "source": [
    "# Adım 2: Tarihe göre ağırlıklı puan ortalamasını hesaplayınız.\n",
    "\n",
    "def weighted_avg_for_date(x=0.4, y=0.35, z=0.25):\n",
    "    return df[df[\"day_diff\"] <= 60][\"overall\"].mean() * x + \\\n",
    "        df[(df[\"day_diff\"] > 60) & (df[\"day_diff\"] <= 150)][\"overall\"].mean() * y + \\\n",
    "            df[df[\"day_diff\"] <= 150][\"overall\"].mean() * z\n",
    "\n",
    "weighted_avg_for_date(0.45,0.30,0.25)"
   ]
  },
  {
   "cell_type": "code",
   "execution_count": 6,
   "metadata": {},
   "outputs": [],
   "source": [
    "# Step 3: Compare and interpret the average of each time period in the weighted rating."
   ]
  },
  {
   "cell_type": "code",
   "execution_count": 7,
   "metadata": {},
   "outputs": [
    {
     "name": "stdout",
     "output_type": "stream",
     "text": [
      "60< : 4.770491803278689 \n",
      "60<_<150 : 4.705128205128205 \n",
      "+150 : 4.727528089887641\n"
     ]
    }
   ],
   "source": [
    "_60_day = df[df[\"day_diff\"] <= 60][\"overall\"].mean() \n",
    "_60_150_day = df[(df[\"day_diff\"] > 60) & (df[\"day_diff\"] <= 150)][\"overall\"].mean() \n",
    "_150_day = df[df[\"day_diff\"] <= 150][\"overall\"].mean() \n",
    "\n",
    "print(f\"60< : {_60_day} \\n\"\n",
    "      f\"60<_<150 : {_60_150_day} \\n\"\n",
    "      f\"+150 : {_150_day}\")"
   ]
  },
  {
   "attachments": {},
   "cell_type": "markdown",
   "metadata": {},
   "source": [
    "###################################################\n",
    "####\n",
    "#### Task 2: Determine the 20 reviews that will be displayed on the product detail page for the product"
   ]
  },
  {
   "attachments": {},
   "cell_type": "markdown",
   "metadata": {},
   "source": [
    "Step 1: Generate the 'helpful_no' variable.\n",
    "\n",
    "* 'total_vote' is the total number of up-down votes given to a review.\n",
    "* 'up' means 'helpful'.\n",
    "* There is no 'helpful_no' variable in the dataset and it needs to be generated based on the existing variables.\n",
    "* Subtract the number of helpful votes (helpful_yes) from the total number of votes (total_vote) to find the number of unhelpful votes (helpful_no)."
   ]
  },
  {
   "cell_type": "code",
   "execution_count": 8,
   "metadata": {},
   "outputs": [
    {
     "data": {
      "text/plain": [
       "0    0\n",
       "1    0\n",
       "2    0\n",
       "3    0\n",
       "4    0\n",
       "5    0\n",
       "6    0\n",
       "7    0\n",
       "8    1\n",
       "9    0\n",
       "Name: helpful_no, dtype: int32"
      ]
     },
     "execution_count": 8,
     "metadata": {},
     "output_type": "execute_result"
    }
   ],
   "source": [
    "# helpful_no \n",
    "df[['helpful_yes', 'helpful_no']] = df['helpful'].str.strip('[]').str.split(',', expand=True).astype(int)\n",
    "\n",
    "df[\"helpful_no\"].head(10)"
   ]
  },
  {
   "cell_type": "code",
   "execution_count": 9,
   "metadata": {},
   "outputs": [
    {
     "name": "stdout",
     "output_type": "stream",
     "text": [
      "(555, 13)\n",
      "(413, 13)\n"
     ]
    }
   ],
   "source": [
    "print(df[df[\"helpful_no\"] > 0].shape)\n",
    "print(df[df[\"helpful_yes\"] > 0].shape)"
   ]
  },
  {
   "cell_type": "code",
   "execution_count": 10,
   "metadata": {},
   "outputs": [],
   "source": [
    "# total-vote\n",
    "\n",
    "df[\"total_vote\"] = df[\"helpful_yes\"] + df[\"helpful_no\"]"
   ]
  },
  {
   "attachments": {},
   "cell_type": "markdown",
   "metadata": {},
   "source": [
    "Step 2: Calculate score_pos_neg_diff, score_average_rating, and wilson_lower_bound scores and add them to the data.\n",
    "\n",
    "Calculate score_pos_neg_diff, score_average_rating, and wilson_lower_bound scores by defining score_pos_neg_diff, score_average_rating, and wilson_lower_bound functions.\n",
    "\n",
    "* Create scores according to score_pos_neg_diff. Then, save it as score_pos_neg_diff in df.\n",
    "* Create scores according to score_average_rating. Then, save it as score_average_rating in df.\n",
    "* Create scores according to wilson_lower_bound. Then, save it as wilson_lower_bound in df."
   ]
  },
  {
   "cell_type": "code",
   "execution_count": 11,
   "metadata": {},
   "outputs": [],
   "source": [
    "# avarage rating\n",
    "\n",
    "df[\"avg_rating\"] = df[\"helpful_yes\"] / df[\"total_vote\"]"
   ]
  },
  {
   "cell_type": "code",
   "execution_count": 12,
   "metadata": {},
   "outputs": [],
   "source": [
    "# score_pos_neg_diff\n",
    "\n",
    "df[\"score_pos_neg_diff\"] = df[\"helpful_yes\"] - df[\"helpful_no\"]"
   ]
  },
  {
   "cell_type": "code",
   "execution_count": 13,
   "metadata": {},
   "outputs": [],
   "source": [
    "# wilson_lower_bound\n",
    "import math\n",
    "import scipy.stats as st\n",
    "\n",
    "def wilson_lower_bound(up, down, confidence=0.95):\n",
    "    \"\"\"\n",
    "    Calculate Wilson Lower Bound Score\n",
    "\n",
    "    - The lower limit of the confidence interval to be calculated for the Bernoulli parameter p is accepted as the WLB score.\n",
    "    - The calculated score is used for product ranking.\n",
    "    - Note:\n",
    "        If the scores are between 1-5, they are marked as negative for 1-3 and positive for 4-5 and can be made compatible with the Bernoulli distribution.\n",
    "        However, this brings some problems along. Therefore, it is necessary to do Bayesian average rating.\"\n",
    "\n",
    "    Parameters\n",
    "    ----------\n",
    "    up: int\n",
    "        up count\n",
    "    down: int\n",
    "        down count\n",
    "    confidence: float\n",
    "        confidence\n",
    "\n",
    "    Returns\n",
    "    -------\n",
    "    wilson score: float\n",
    "\n",
    "    \"\"\"\n",
    "    n = up + down\n",
    "    if n == 0:\n",
    "        return 0\n",
    "    z = st.norm.ppf(1 - (1 - confidence) / 2)\n",
    "    phat = 1.0 * up / n\n",
    "    return (phat + z * z / (2 * n) - z * math.sqrt((phat * (1 - phat) + z * z / (4 * n)) / n)) / (1 + z * z / n)\n",
    "\n",
    "df[\"wilson_lower_bound\"] = df.apply(lambda x: wilson_lower_bound(x[\"helpful_yes\"], x[\"helpful_no\"]), axis=1)"
   ]
  },
  {
   "attachments": {},
   "cell_type": "markdown",
   "metadata": {},
   "source": [
    "Step 3: Determine 20 reviews and interpret the results."
   ]
  },
  {
   "cell_type": "code",
   "execution_count": 15,
   "metadata": {},
   "outputs": [
    {
     "data": {
      "text/html": [
       "<div>\n",
       "<style scoped>\n",
       "    .dataframe tbody tr th:only-of-type {\n",
       "        vertical-align: middle;\n",
       "    }\n",
       "\n",
       "    .dataframe tbody tr th {\n",
       "        vertical-align: top;\n",
       "    }\n",
       "\n",
       "    .dataframe thead th {\n",
       "        text-align: right;\n",
       "    }\n",
       "</style>\n",
       "<table border=\"1\" class=\"dataframe\">\n",
       "  <thead>\n",
       "    <tr style=\"text-align: right;\">\n",
       "      <th></th>\n",
       "      <th>reviewerID</th>\n",
       "      <th>asin</th>\n",
       "      <th>reviewerName</th>\n",
       "      <th>helpful</th>\n",
       "      <th>reviewText</th>\n",
       "      <th>overall</th>\n",
       "      <th>summary</th>\n",
       "      <th>unixReviewTime</th>\n",
       "      <th>reviewTime</th>\n",
       "      <th>day_diff</th>\n",
       "      <th>helpful_yes</th>\n",
       "      <th>total_vote</th>\n",
       "      <th>helpful_no</th>\n",
       "      <th>avg_rating</th>\n",
       "      <th>score_pos_neg_diff</th>\n",
       "      <th>wilson_lower_bound</th>\n",
       "    </tr>\n",
       "  </thead>\n",
       "  <tbody>\n",
       "    <tr>\n",
       "      <th>2031</th>\n",
       "      <td>A12B7ZMXFI6IXY</td>\n",
       "      <td>B007WTAJTO</td>\n",
       "      <td>Hyoun Kim \"Faluzure\"</td>\n",
       "      <td>[1952, 2020]</td>\n",
       "      <td>[[ UPDATE - 6/19/2014 ]]So my lovely wife boug...</td>\n",
       "      <td>5.0</td>\n",
       "      <td>UPDATED - Great w/ Galaxy S4 &amp; Galaxy Tab 4 10...</td>\n",
       "      <td>1367366400</td>\n",
       "      <td>2013-01-05</td>\n",
       "      <td>702</td>\n",
       "      <td>1952</td>\n",
       "      <td>3972</td>\n",
       "      <td>2020</td>\n",
       "      <td>0.491440</td>\n",
       "      <td>-68</td>\n",
       "      <td>0.475909</td>\n",
       "    </tr>\n",
       "    <tr>\n",
       "      <th>3449</th>\n",
       "      <td>AOEAD7DPLZE53</td>\n",
       "      <td>B007WTAJTO</td>\n",
       "      <td>NLee the Engineer</td>\n",
       "      <td>[1428, 1505]</td>\n",
       "      <td>I have tested dozens of SDHC and micro-SDHC ca...</td>\n",
       "      <td>5.0</td>\n",
       "      <td>Top of the class among all (budget-priced) mic...</td>\n",
       "      <td>1348617600</td>\n",
       "      <td>2012-09-26</td>\n",
       "      <td>803</td>\n",
       "      <td>1428</td>\n",
       "      <td>2933</td>\n",
       "      <td>1505</td>\n",
       "      <td>0.486874</td>\n",
       "      <td>-77</td>\n",
       "      <td>0.468814</td>\n",
       "    </tr>\n",
       "    <tr>\n",
       "      <th>4212</th>\n",
       "      <td>AVBMZZAFEKO58</td>\n",
       "      <td>B007WTAJTO</td>\n",
       "      <td>SkincareCEO</td>\n",
       "      <td>[1568, 1694]</td>\n",
       "      <td>NOTE:  please read the last update (scroll to ...</td>\n",
       "      <td>1.0</td>\n",
       "      <td>1 Star reviews - Micro SDXC card unmounts itse...</td>\n",
       "      <td>1375660800</td>\n",
       "      <td>2013-05-08</td>\n",
       "      <td>579</td>\n",
       "      <td>1568</td>\n",
       "      <td>3262</td>\n",
       "      <td>1694</td>\n",
       "      <td>0.480687</td>\n",
       "      <td>-126</td>\n",
       "      <td>0.463574</td>\n",
       "    </tr>\n",
       "    <tr>\n",
       "      <th>317</th>\n",
       "      <td>A1ZQAQFYSXL5MQ</td>\n",
       "      <td>B007WTAJTO</td>\n",
       "      <td>Amazon Customer \"Kelly\"</td>\n",
       "      <td>[422, 495]</td>\n",
       "      <td>If your card gets hot enough to be painful, it...</td>\n",
       "      <td>1.0</td>\n",
       "      <td>Warning, read this!</td>\n",
       "      <td>1346544000</td>\n",
       "      <td>2012-02-09</td>\n",
       "      <td>1033</td>\n",
       "      <td>422</td>\n",
       "      <td>917</td>\n",
       "      <td>495</td>\n",
       "      <td>0.460196</td>\n",
       "      <td>-73</td>\n",
       "      <td>0.428170</td>\n",
       "    </tr>\n",
       "    <tr>\n",
       "      <th>3981</th>\n",
       "      <td>A1K91XXQ6ZEBQR</td>\n",
       "      <td>B007WTAJTO</td>\n",
       "      <td>R. Sutton, Jr. \"RWSynergy\"</td>\n",
       "      <td>[112, 139]</td>\n",
       "      <td>The last few days I have been diligently shopp...</td>\n",
       "      <td>5.0</td>\n",
       "      <td>Resolving confusion between \"Mobile Ultra\" and...</td>\n",
       "      <td>1350864000</td>\n",
       "      <td>2012-10-22</td>\n",
       "      <td>777</td>\n",
       "      <td>112</td>\n",
       "      <td>251</td>\n",
       "      <td>139</td>\n",
       "      <td>0.446215</td>\n",
       "      <td>-27</td>\n",
       "      <td>0.385989</td>\n",
       "    </tr>\n",
       "  </tbody>\n",
       "</table>\n",
       "</div>"
      ],
      "text/plain": [
       "          reviewerID        asin                reviewerName       helpful  \\\n",
       "2031  A12B7ZMXFI6IXY  B007WTAJTO        Hyoun Kim \"Faluzure\"  [1952, 2020]   \n",
       "3449   AOEAD7DPLZE53  B007WTAJTO           NLee the Engineer  [1428, 1505]   \n",
       "4212   AVBMZZAFEKO58  B007WTAJTO                 SkincareCEO  [1568, 1694]   \n",
       "317   A1ZQAQFYSXL5MQ  B007WTAJTO     Amazon Customer \"Kelly\"    [422, 495]   \n",
       "3981  A1K91XXQ6ZEBQR  B007WTAJTO  R. Sutton, Jr. \"RWSynergy\"    [112, 139]   \n",
       "\n",
       "                                             reviewText  overall  \\\n",
       "2031  [[ UPDATE - 6/19/2014 ]]So my lovely wife boug...      5.0   \n",
       "3449  I have tested dozens of SDHC and micro-SDHC ca...      5.0   \n",
       "4212  NOTE:  please read the last update (scroll to ...      1.0   \n",
       "317   If your card gets hot enough to be painful, it...      1.0   \n",
       "3981  The last few days I have been diligently shopp...      5.0   \n",
       "\n",
       "                                                summary  unixReviewTime  \\\n",
       "2031  UPDATED - Great w/ Galaxy S4 & Galaxy Tab 4 10...      1367366400   \n",
       "3449  Top of the class among all (budget-priced) mic...      1348617600   \n",
       "4212  1 Star reviews - Micro SDXC card unmounts itse...      1375660800   \n",
       "317                                 Warning, read this!      1346544000   \n",
       "3981  Resolving confusion between \"Mobile Ultra\" and...      1350864000   \n",
       "\n",
       "      reviewTime  day_diff  helpful_yes  total_vote  helpful_no  avg_rating  \\\n",
       "2031  2013-01-05       702         1952        3972        2020    0.491440   \n",
       "3449  2012-09-26       803         1428        2933        1505    0.486874   \n",
       "4212  2013-05-08       579         1568        3262        1694    0.480687   \n",
       "317   2012-02-09      1033          422         917         495    0.460196   \n",
       "3981  2012-10-22       777          112         251         139    0.446215   \n",
       "\n",
       "      score_pos_neg_diff  wilson_lower_bound  \n",
       "2031                 -68            0.475909  \n",
       "3449                 -77            0.468814  \n",
       "4212                -126            0.463574  \n",
       "317                  -73            0.428170  \n",
       "3981                 -27            0.385989  "
      ]
     },
     "execution_count": 15,
     "metadata": {},
     "output_type": "execute_result"
    }
   ],
   "source": [
    "df.sort_values(\"wilson_lower_bound\", ascending=False).head(5)"
   ]
  },
  {
   "cell_type": "code",
   "execution_count": null,
   "metadata": {},
   "outputs": [],
   "source": []
  }
 ],
 "metadata": {
  "kernelspec": {
   "display_name": "base",
   "language": "python",
   "name": "python3"
  },
  "language_info": {
   "codemirror_mode": {
    "name": "ipython",
    "version": 3
   },
   "file_extension": ".py",
   "mimetype": "text/x-python",
   "name": "python",
   "nbconvert_exporter": "python",
   "pygments_lexer": "ipython3",
   "version": "3.9.13"
  },
  "orig_nbformat": 4
 },
 "nbformat": 4,
 "nbformat_minor": 2
}
